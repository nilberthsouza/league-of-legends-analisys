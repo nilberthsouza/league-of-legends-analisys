{
  "nbformat": 4,
  "nbformat_minor": 0,
  "metadata": {
    "colab": {
      "name": "explarationLeagueofLegendsDS.ipynb",
      "provenance": [],
      "authorship_tag": "ABX9TyNcSKEzrQcPgsaDW6B8LnMa",
      "include_colab_link": true
    },
    "kernelspec": {
      "name": "python3",
      "display_name": "Python 3"
    }
  },
  "cells": [
    {
      "cell_type": "markdown",
      "metadata": {
        "id": "view-in-github",
        "colab_type": "text"
      },
      "source": [
        "<a href=\"https://colab.research.google.com/github/nilberthsouza/league-of-legends-analisys/blob/master/explarationLeagueofLegendsDS.ipynb\" target=\"_parent\"><img src=\"https://colab.research.google.com/assets/colab-badge.svg\" alt=\"Open In Colab\"/></a>"
      ]
    },
    {
      "cell_type": "markdown",
      "metadata": {
        "id": "ZVnJ7hzbck2o",
        "colab_type": "text"
      },
      "source": [
        "# Exploração dados League of Legends\n"
      ]
    },
    {
      "cell_type": "code",
      "metadata": {
        "id": "3EOYyd9jVc0r",
        "colab_type": "code",
        "colab": {
          "base_uri": "https://localhost:8080/",
          "height": 71
        },
        "outputId": "5c490f01-1954-43d1-82ee-91181eba492f"
      },
      "source": [
        "import pandas as pd\n",
        "import numpy as np\n",
        "import matplotlib.pyplot as plt\n",
        "import seaborn as sns\n",
        "%matplotlib inline"
      ],
      "execution_count": 1,
      "outputs": [
        {
          "output_type": "stream",
          "text": [
            "/usr/local/lib/python3.6/dist-packages/statsmodels/tools/_testing.py:19: FutureWarning: pandas.util.testing is deprecated. Use the functions in the public API at pandas.testing instead.\n",
            "  import pandas.util.testing as tm\n"
          ],
          "name": "stderr"
        }
      ]
    },
    {
      "cell_type": "code",
      "metadata": {
        "id": "pDUVk7ajVxM5",
        "colab_type": "code",
        "colab": {
          "base_uri": "https://localhost:8080/",
          "height": 224
        },
        "outputId": "a0ea7c4c-2b0a-4ac9-ee4b-0230abba1c55"
      },
      "source": [
        "df = pd.read_csv('https://raw.githubusercontent.com/nilberthsouza/league-of-legends-analisys/master/high_diamond_ranked_10min.csv')\n",
        "df.head()"
      ],
      "execution_count": 2,
      "outputs": [
        {
          "output_type": "execute_result",
          "data": {
            "text/html": [
              "<div>\n",
              "<style scoped>\n",
              "    .dataframe tbody tr th:only-of-type {\n",
              "        vertical-align: middle;\n",
              "    }\n",
              "\n",
              "    .dataframe tbody tr th {\n",
              "        vertical-align: top;\n",
              "    }\n",
              "\n",
              "    .dataframe thead th {\n",
              "        text-align: right;\n",
              "    }\n",
              "</style>\n",
              "<table border=\"1\" class=\"dataframe\">\n",
              "  <thead>\n",
              "    <tr style=\"text-align: right;\">\n",
              "      <th></th>\n",
              "      <th>gameId</th>\n",
              "      <th>blueWins</th>\n",
              "      <th>blueWardsPlaced</th>\n",
              "      <th>blueWardsDestroyed</th>\n",
              "      <th>blueFirstBlood</th>\n",
              "      <th>blueKills</th>\n",
              "      <th>blueDeaths</th>\n",
              "      <th>blueAssists</th>\n",
              "      <th>blueEliteMonsters</th>\n",
              "      <th>blueDragons</th>\n",
              "      <th>blueHeralds</th>\n",
              "      <th>blueTowersDestroyed</th>\n",
              "      <th>blueTotalGold</th>\n",
              "      <th>blueAvgLevel</th>\n",
              "      <th>blueTotalExperience</th>\n",
              "      <th>blueTotalMinionsKilled</th>\n",
              "      <th>blueTotalJungleMinionsKilled</th>\n",
              "      <th>blueGoldDiff</th>\n",
              "      <th>blueExperienceDiff</th>\n",
              "      <th>blueCSPerMin</th>\n",
              "      <th>blueGoldPerMin</th>\n",
              "      <th>redWardsPlaced</th>\n",
              "      <th>redWardsDestroyed</th>\n",
              "      <th>redFirstBlood</th>\n",
              "      <th>redKills</th>\n",
              "      <th>redDeaths</th>\n",
              "      <th>redAssists</th>\n",
              "      <th>redEliteMonsters</th>\n",
              "      <th>redDragons</th>\n",
              "      <th>redHeralds</th>\n",
              "      <th>redTowersDestroyed</th>\n",
              "      <th>redTotalGold</th>\n",
              "      <th>redAvgLevel</th>\n",
              "      <th>redTotalExperience</th>\n",
              "      <th>redTotalMinionsKilled</th>\n",
              "      <th>redTotalJungleMinionsKilled</th>\n",
              "      <th>redGoldDiff</th>\n",
              "      <th>redExperienceDiff</th>\n",
              "      <th>redCSPerMin</th>\n",
              "      <th>redGoldPerMin</th>\n",
              "    </tr>\n",
              "  </thead>\n",
              "  <tbody>\n",
              "    <tr>\n",
              "      <th>0</th>\n",
              "      <td>4519157822</td>\n",
              "      <td>0</td>\n",
              "      <td>28</td>\n",
              "      <td>2</td>\n",
              "      <td>1</td>\n",
              "      <td>9</td>\n",
              "      <td>6</td>\n",
              "      <td>11</td>\n",
              "      <td>0</td>\n",
              "      <td>0</td>\n",
              "      <td>0</td>\n",
              "      <td>0</td>\n",
              "      <td>17210</td>\n",
              "      <td>6.6</td>\n",
              "      <td>17039</td>\n",
              "      <td>195</td>\n",
              "      <td>36</td>\n",
              "      <td>643</td>\n",
              "      <td>-8</td>\n",
              "      <td>19.5</td>\n",
              "      <td>1721.0</td>\n",
              "      <td>15</td>\n",
              "      <td>6</td>\n",
              "      <td>0</td>\n",
              "      <td>6</td>\n",
              "      <td>9</td>\n",
              "      <td>8</td>\n",
              "      <td>0</td>\n",
              "      <td>0</td>\n",
              "      <td>0</td>\n",
              "      <td>0</td>\n",
              "      <td>16567</td>\n",
              "      <td>6.8</td>\n",
              "      <td>17047</td>\n",
              "      <td>197</td>\n",
              "      <td>55</td>\n",
              "      <td>-643</td>\n",
              "      <td>8</td>\n",
              "      <td>19.7</td>\n",
              "      <td>1656.7</td>\n",
              "    </tr>\n",
              "    <tr>\n",
              "      <th>1</th>\n",
              "      <td>4523371949</td>\n",
              "      <td>0</td>\n",
              "      <td>12</td>\n",
              "      <td>1</td>\n",
              "      <td>0</td>\n",
              "      <td>5</td>\n",
              "      <td>5</td>\n",
              "      <td>5</td>\n",
              "      <td>0</td>\n",
              "      <td>0</td>\n",
              "      <td>0</td>\n",
              "      <td>0</td>\n",
              "      <td>14712</td>\n",
              "      <td>6.6</td>\n",
              "      <td>16265</td>\n",
              "      <td>174</td>\n",
              "      <td>43</td>\n",
              "      <td>-2908</td>\n",
              "      <td>-1173</td>\n",
              "      <td>17.4</td>\n",
              "      <td>1471.2</td>\n",
              "      <td>12</td>\n",
              "      <td>1</td>\n",
              "      <td>1</td>\n",
              "      <td>5</td>\n",
              "      <td>5</td>\n",
              "      <td>2</td>\n",
              "      <td>2</td>\n",
              "      <td>1</td>\n",
              "      <td>1</td>\n",
              "      <td>1</td>\n",
              "      <td>17620</td>\n",
              "      <td>6.8</td>\n",
              "      <td>17438</td>\n",
              "      <td>240</td>\n",
              "      <td>52</td>\n",
              "      <td>2908</td>\n",
              "      <td>1173</td>\n",
              "      <td>24.0</td>\n",
              "      <td>1762.0</td>\n",
              "    </tr>\n",
              "    <tr>\n",
              "      <th>2</th>\n",
              "      <td>4521474530</td>\n",
              "      <td>0</td>\n",
              "      <td>15</td>\n",
              "      <td>0</td>\n",
              "      <td>0</td>\n",
              "      <td>7</td>\n",
              "      <td>11</td>\n",
              "      <td>4</td>\n",
              "      <td>1</td>\n",
              "      <td>1</td>\n",
              "      <td>0</td>\n",
              "      <td>0</td>\n",
              "      <td>16113</td>\n",
              "      <td>6.4</td>\n",
              "      <td>16221</td>\n",
              "      <td>186</td>\n",
              "      <td>46</td>\n",
              "      <td>-1172</td>\n",
              "      <td>-1033</td>\n",
              "      <td>18.6</td>\n",
              "      <td>1611.3</td>\n",
              "      <td>15</td>\n",
              "      <td>3</td>\n",
              "      <td>1</td>\n",
              "      <td>11</td>\n",
              "      <td>7</td>\n",
              "      <td>14</td>\n",
              "      <td>0</td>\n",
              "      <td>0</td>\n",
              "      <td>0</td>\n",
              "      <td>0</td>\n",
              "      <td>17285</td>\n",
              "      <td>6.8</td>\n",
              "      <td>17254</td>\n",
              "      <td>203</td>\n",
              "      <td>28</td>\n",
              "      <td>1172</td>\n",
              "      <td>1033</td>\n",
              "      <td>20.3</td>\n",
              "      <td>1728.5</td>\n",
              "    </tr>\n",
              "    <tr>\n",
              "      <th>3</th>\n",
              "      <td>4524384067</td>\n",
              "      <td>0</td>\n",
              "      <td>43</td>\n",
              "      <td>1</td>\n",
              "      <td>0</td>\n",
              "      <td>4</td>\n",
              "      <td>5</td>\n",
              "      <td>5</td>\n",
              "      <td>1</td>\n",
              "      <td>0</td>\n",
              "      <td>1</td>\n",
              "      <td>0</td>\n",
              "      <td>15157</td>\n",
              "      <td>7.0</td>\n",
              "      <td>17954</td>\n",
              "      <td>201</td>\n",
              "      <td>55</td>\n",
              "      <td>-1321</td>\n",
              "      <td>-7</td>\n",
              "      <td>20.1</td>\n",
              "      <td>1515.7</td>\n",
              "      <td>15</td>\n",
              "      <td>2</td>\n",
              "      <td>1</td>\n",
              "      <td>5</td>\n",
              "      <td>4</td>\n",
              "      <td>10</td>\n",
              "      <td>0</td>\n",
              "      <td>0</td>\n",
              "      <td>0</td>\n",
              "      <td>0</td>\n",
              "      <td>16478</td>\n",
              "      <td>7.0</td>\n",
              "      <td>17961</td>\n",
              "      <td>235</td>\n",
              "      <td>47</td>\n",
              "      <td>1321</td>\n",
              "      <td>7</td>\n",
              "      <td>23.5</td>\n",
              "      <td>1647.8</td>\n",
              "    </tr>\n",
              "    <tr>\n",
              "      <th>4</th>\n",
              "      <td>4436033771</td>\n",
              "      <td>0</td>\n",
              "      <td>75</td>\n",
              "      <td>4</td>\n",
              "      <td>0</td>\n",
              "      <td>6</td>\n",
              "      <td>6</td>\n",
              "      <td>6</td>\n",
              "      <td>0</td>\n",
              "      <td>0</td>\n",
              "      <td>0</td>\n",
              "      <td>0</td>\n",
              "      <td>16400</td>\n",
              "      <td>7.0</td>\n",
              "      <td>18543</td>\n",
              "      <td>210</td>\n",
              "      <td>57</td>\n",
              "      <td>-1004</td>\n",
              "      <td>230</td>\n",
              "      <td>21.0</td>\n",
              "      <td>1640.0</td>\n",
              "      <td>17</td>\n",
              "      <td>2</td>\n",
              "      <td>1</td>\n",
              "      <td>6</td>\n",
              "      <td>6</td>\n",
              "      <td>7</td>\n",
              "      <td>1</td>\n",
              "      <td>1</td>\n",
              "      <td>0</td>\n",
              "      <td>0</td>\n",
              "      <td>17404</td>\n",
              "      <td>7.0</td>\n",
              "      <td>18313</td>\n",
              "      <td>225</td>\n",
              "      <td>67</td>\n",
              "      <td>1004</td>\n",
              "      <td>-230</td>\n",
              "      <td>22.5</td>\n",
              "      <td>1740.4</td>\n",
              "    </tr>\n",
              "  </tbody>\n",
              "</table>\n",
              "</div>"
            ],
            "text/plain": [
              "       gameId  blueWins  ...  redCSPerMin  redGoldPerMin\n",
              "0  4519157822         0  ...         19.7         1656.7\n",
              "1  4523371949         0  ...         24.0         1762.0\n",
              "2  4521474530         0  ...         20.3         1728.5\n",
              "3  4524384067         0  ...         23.5         1647.8\n",
              "4  4436033771         0  ...         22.5         1740.4\n",
              "\n",
              "[5 rows x 40 columns]"
            ]
          },
          "metadata": {
            "tags": []
          },
          "execution_count": 2
        }
      ]
    },
    {
      "cell_type": "markdown",
      "metadata": {
        "id": "bMuOmP9-V9HT",
        "colab_type": "text"
      },
      "source": [
        "Quero ver qual a relação entre o numero de wards colocadas pelo azul contra o numero de kill\n",
        "\n"
      ]
    },
    {
      "cell_type": "code",
      "metadata": {
        "id": "y2aBLX0mV3jS",
        "colab_type": "code",
        "colab": {
          "base_uri": "https://localhost:8080/",
          "height": 296
        },
        "outputId": "8366f200-a75a-4fa4-a0d9-54bea06a1285"
      },
      "source": [
        "sns.scatterplot(x=df.blueKills,y=df.blueWardsPlaced,hue=df.blueWins == 1)\n"
      ],
      "execution_count": 6,
      "outputs": [
        {
          "output_type": "execute_result",
          "data": {
            "text/plain": [
              "<matplotlib.axes._subplots.AxesSubplot at 0x7ff6959ec0b8>"
            ]
          },
          "metadata": {
            "tags": []
          },
          "execution_count": 6
        },
        {
          "output_type": "display_data",
          "data": {
            "image/png": "[encoded data removed]",
            "text/plain": [
              "<Figure size 432x288 with 1 Axes>"
            ]
          },
          "metadata": {
            "tags": [],
            "needs_background": "light"
          }
        }
      ]
    },
    {
      "cell_type": "markdown",
      "metadata": {
        "id": "HmwSrqrfYsQ0",
        "colab_type": "text"
      },
      "source": [
        "Queremos saber quando um time pega o first blood qual a distribuição vitoria e derrotas"
      ]
    },
    {
      "cell_type": "code",
      "metadata": {
        "id": "5Zv0IXoPWu9Z",
        "colab_type": "code",
        "colab": {
          "base_uri": "https://localhost:8080/",
          "height": 279
        },
        "outputId": "ced9e97c-b773-4e75-b812-86e1e7b582d3"
      },
      "source": [
        "df.blueWins[df.blueFirstBlood  == 1].value_counts(normalize=True).plot(kind='bar')"
      ],
      "execution_count": 9,
      "outputs": [
        {
          "output_type": "execute_result",
          "data": {
            "text/plain": [
              "<matplotlib.axes._subplots.AxesSubplot at 0x7ff692c1fe10>"
            ]
          },
          "metadata": {
            "tags": []
          },
          "execution_count": 9
        },
        {
          "output_type": "display_data",
          "data": {
            "image/png": "[encoded data removed]",
            "text/plain": [
              "<Figure size 432x288 with 1 Axes>"
            ]
          },
          "metadata": {
            "tags": [],
            "needs_background": "light"
          }
        }
      ]
    },
    {
      "cell_type": "code",
      "metadata": {
        "id": "vC_Mq27cYe2G",
        "colab_type": "code",
        "colab": {
          "base_uri": "https://localhost:8080/",
          "height": 238
        },
        "outputId": "330cba4b-3835-4bd5-9a8f-50b2139ad60b"
      },
      "source": [
        "df.columns"
      ],
      "execution_count": 19,
      "outputs": [
        {
          "output_type": "execute_result",
          "data": {
            "text/plain": [
              "Index(['gameId', 'blueWins', 'blueWardsPlaced', 'blueWardsDestroyed',\n",
              "       'blueFirstBlood', 'blueKills', 'blueDeaths', 'blueAssists',\n",
              "       'blueEliteMonsters', 'blueDragons', 'blueHeralds',\n",
              "       'blueTowersDestroyed', 'blueTotalGold', 'blueAvgLevel',\n",
              "       'blueTotalExperience', 'blueTotalMinionsKilled',\n",
              "       'blueTotalJungleMinionsKilled', 'blueGoldDiff', 'blueExperienceDiff',\n",
              "       'blueCSPerMin', 'blueGoldPerMin', 'redWardsPlaced', 'redWardsDestroyed',\n",
              "       'redFirstBlood', 'redKills', 'redDeaths', 'redAssists',\n",
              "       'redEliteMonsters', 'redDragons', 'redHeralds', 'redTowersDestroyed',\n",
              "       'redTotalGold', 'redAvgLevel', 'redTotalExperience',\n",
              "       'redTotalMinionsKilled', 'redTotalJungleMinionsKilled', 'redGoldDiff',\n",
              "       'redExperienceDiff', 'redCSPerMin', 'redGoldPerMin'],\n",
              "      dtype='object')"
            ]
          },
          "metadata": {
            "tags": []
          },
          "execution_count": 19
        }
      ]
    },
    {
      "cell_type": "markdown",
      "metadata": {
        "id": "sAuxkGWUbcHG",
        "colab_type": "text"
      },
      "source": [
        "Agora vamos encotrar a media de Gold por minuto quando um time ganha:"
      ]
    },
    {
      "cell_type": "code",
      "metadata": {
        "id": "OEUXYQsvZbLg",
        "colab_type": "code",
        "colab": {
          "base_uri": "https://localhost:8080/",
          "height": 34
        },
        "outputId": "18f4581d-ac96-4bb3-aa1f-3fb45b8a52a3"
      },
      "source": [
        "df.blueGoldPerMin[df.blueWins == 1].mean()"
      ],
      "execution_count": 20,
      "outputs": [
        {
          "output_type": "execute_result",
          "data": {
            "text/plain": [
              "1714.5263894523346"
            ]
          },
          "metadata": {
            "tags": []
          },
          "execution_count": 20
        }
      ]
    },
    {
      "cell_type": "markdown",
      "metadata": {
        "id": "5wdSzSnXbg3T",
        "colab_type": "text"
      },
      "source": [
        "vamos criar uma coluna chamada `more` e vamos setar 1 pra quando o time fazer mais ouro por minuto que a media de ouro por minuto que um time faz quando ganha e zero para valores abaixo dessa mesma media"
      ]
    },
    {
      "cell_type": "code",
      "metadata": {
        "id": "OsBAf8Z9aVY3",
        "colab_type": "code",
        "colab": {
          "base_uri": "https://localhost:8080/",
          "height": 224
        },
        "outputId": "ed67bfb1-3dcb-40c3-90c7-0321e8f07af7"
      },
      "source": [
        "df['more'] = df['blueGoldPerMin'].map(lambda a: 1 if a > float(df.blueGoldPerMin[df.blueWins == 1].mean()) else 0)\n",
        "df.head()"
      ],
      "execution_count": 27,
      "outputs": [
        {
          "output_type": "execute_result",
          "data": {
            "text/html": [
              "<div>\n",
              "<style scoped>\n",
              "    .dataframe tbody tr th:only-of-type {\n",
              "        vertical-align: middle;\n",
              "    }\n",
              "\n",
              "    .dataframe tbody tr th {\n",
              "        vertical-align: top;\n",
              "    }\n",
              "\n",
              "    .dataframe thead th {\n",
              "        text-align: right;\n",
              "    }\n",
              "</style>\n",
              "<table border=\"1\" class=\"dataframe\">\n",
              "  <thead>\n",
              "    <tr style=\"text-align: right;\">\n",
              "      <th></th>\n",
              "      <th>gameId</th>\n",
              "      <th>blueWins</th>\n",
              "      <th>blueWardsPlaced</th>\n",
              "      <th>blueWardsDestroyed</th>\n",
              "      <th>blueFirstBlood</th>\n",
              "      <th>blueKills</th>\n",
              "      <th>blueDeaths</th>\n",
              "      <th>blueAssists</th>\n",
              "      <th>blueEliteMonsters</th>\n",
              "      <th>blueDragons</th>\n",
              "      <th>blueHeralds</th>\n",
              "      <th>blueTowersDestroyed</th>\n",
              "      <th>blueTotalGold</th>\n",
              "      <th>blueAvgLevel</th>\n",
              "      <th>blueTotalExperience</th>\n",
              "      <th>blueTotalMinionsKilled</th>\n",
              "      <th>blueTotalJungleMinionsKilled</th>\n",
              "      <th>blueGoldDiff</th>\n",
              "      <th>blueExperienceDiff</th>\n",
              "      <th>blueCSPerMin</th>\n",
              "      <th>blueGoldPerMin</th>\n",
              "      <th>redWardsPlaced</th>\n",
              "      <th>redWardsDestroyed</th>\n",
              "      <th>redFirstBlood</th>\n",
              "      <th>redKills</th>\n",
              "      <th>redDeaths</th>\n",
              "      <th>redAssists</th>\n",
              "      <th>redEliteMonsters</th>\n",
              "      <th>redDragons</th>\n",
              "      <th>redHeralds</th>\n",
              "      <th>redTowersDestroyed</th>\n",
              "      <th>redTotalGold</th>\n",
              "      <th>redAvgLevel</th>\n",
              "      <th>redTotalExperience</th>\n",
              "      <th>redTotalMinionsKilled</th>\n",
              "      <th>redTotalJungleMinionsKilled</th>\n",
              "      <th>redGoldDiff</th>\n",
              "      <th>redExperienceDiff</th>\n",
              "      <th>redCSPerMin</th>\n",
              "      <th>redGoldPerMin</th>\n",
              "      <th>more</th>\n",
              "    </tr>\n",
              "  </thead>\n",
              "  <tbody>\n",
              "    <tr>\n",
              "      <th>0</th>\n",
              "      <td>4519157822</td>\n",
              "      <td>0</td>\n",
              "      <td>28</td>\n",
              "      <td>2</td>\n",
              "      <td>1</td>\n",
              "      <td>9</td>\n",
              "      <td>6</td>\n",
              "      <td>11</td>\n",
              "      <td>0</td>\n",
              "      <td>0</td>\n",
              "      <td>0</td>\n",
              "      <td>0</td>\n",
              "      <td>17210</td>\n",
              "      <td>6.6</td>\n",
              "      <td>17039</td>\n",
              "      <td>195</td>\n",
              "      <td>36</td>\n",
              "      <td>643</td>\n",
              "      <td>-8</td>\n",
              "      <td>19.5</td>\n",
              "      <td>1721.0</td>\n",
              "      <td>15</td>\n",
              "      <td>6</td>\n",
              "      <td>0</td>\n",
              "      <td>6</td>\n",
              "      <td>9</td>\n",
              "      <td>8</td>\n",
              "      <td>0</td>\n",
              "      <td>0</td>\n",
              "      <td>0</td>\n",
              "      <td>0</td>\n",
              "      <td>16567</td>\n",
              "      <td>6.8</td>\n",
              "      <td>17047</td>\n",
              "      <td>197</td>\n",
              "      <td>55</td>\n",
              "      <td>-643</td>\n",
              "      <td>8</td>\n",
              "      <td>19.7</td>\n",
              "      <td>1656.7</td>\n",
              "      <td>1</td>\n",
              "    </tr>\n",
              "    <tr>\n",
              "      <th>1</th>\n",
              "      <td>4523371949</td>\n",
              "      <td>0</td>\n",
              "      <td>12</td>\n",
              "      <td>1</td>\n",
              "      <td>0</td>\n",
              "      <td>5</td>\n",
              "      <td>5</td>\n",
              "      <td>5</td>\n",
              "      <td>0</td>\n",
              "      <td>0</td>\n",
              "      <td>0</td>\n",
              "      <td>0</td>\n",
              "      <td>14712</td>\n",
              "      <td>6.6</td>\n",
              "      <td>16265</td>\n",
              "      <td>174</td>\n",
              "      <td>43</td>\n",
              "      <td>-2908</td>\n",
              "      <td>-1173</td>\n",
              "      <td>17.4</td>\n",
              "      <td>1471.2</td>\n",
              "      <td>12</td>\n",
              "      <td>1</td>\n",
              "      <td>1</td>\n",
              "      <td>5</td>\n",
              "      <td>5</td>\n",
              "      <td>2</td>\n",
              "      <td>2</td>\n",
              "      <td>1</td>\n",
              "      <td>1</td>\n",
              "      <td>1</td>\n",
              "      <td>17620</td>\n",
              "      <td>6.8</td>\n",
              "      <td>17438</td>\n",
              "      <td>240</td>\n",
              "      <td>52</td>\n",
              "      <td>2908</td>\n",
              "      <td>1173</td>\n",
              "      <td>24.0</td>\n",
              "      <td>1762.0</td>\n",
              "      <td>0</td>\n",
              "    </tr>\n",
              "    <tr>\n",
              "      <th>2</th>\n",
              "      <td>4521474530</td>\n",
              "      <td>0</td>\n",
              "      <td>15</td>\n",
              "      <td>0</td>\n",
              "      <td>0</td>\n",
              "      <td>7</td>\n",
              "      <td>11</td>\n",
              "      <td>4</td>\n",
              "      <td>1</td>\n",
              "      <td>1</td>\n",
              "      <td>0</td>\n",
              "      <td>0</td>\n",
              "      <td>16113</td>\n",
              "      <td>6.4</td>\n",
              "      <td>16221</td>\n",
              "      <td>186</td>\n",
              "      <td>46</td>\n",
              "      <td>-1172</td>\n",
              "      <td>-1033</td>\n",
              "      <td>18.6</td>\n",
              "      <td>1611.3</td>\n",
              "      <td>15</td>\n",
              "      <td>3</td>\n",
              "      <td>1</td>\n",
              "      <td>11</td>\n",
              "      <td>7</td>\n",
              "      <td>14</td>\n",
              "      <td>0</td>\n",
              "      <td>0</td>\n",
              "      <td>0</td>\n",
              "      <td>0</td>\n",
              "      <td>17285</td>\n",
              "      <td>6.8</td>\n",
              "      <td>17254</td>\n",
              "      <td>203</td>\n",
              "      <td>28</td>\n",
              "      <td>1172</td>\n",
              "      <td>1033</td>\n",
              "      <td>20.3</td>\n",
              "      <td>1728.5</td>\n",
              "      <td>0</td>\n",
              "    </tr>\n",
              "    <tr>\n",
              "      <th>3</th>\n",
              "      <td>4524384067</td>\n",
              "      <td>0</td>\n",
              "      <td>43</td>\n",
              "      <td>1</td>\n",
              "      <td>0</td>\n",
              "      <td>4</td>\n",
              "      <td>5</td>\n",
              "      <td>5</td>\n",
              "      <td>1</td>\n",
              "      <td>0</td>\n",
              "      <td>1</td>\n",
              "      <td>0</td>\n",
              "      <td>15157</td>\n",
              "      <td>7.0</td>\n",
              "      <td>17954</td>\n",
              "      <td>201</td>\n",
              "      <td>55</td>\n",
              "      <td>-1321</td>\n",
              "      <td>-7</td>\n",
              "      <td>20.1</td>\n",
              "      <td>1515.7</td>\n",
              "      <td>15</td>\n",
              "      <td>2</td>\n",
              "      <td>1</td>\n",
              "      <td>5</td>\n",
              "      <td>4</td>\n",
              "      <td>10</td>\n",
              "      <td>0</td>\n",
              "      <td>0</td>\n",
              "      <td>0</td>\n",
              "      <td>0</td>\n",
              "      <td>16478</td>\n",
              "      <td>7.0</td>\n",
              "      <td>17961</td>\n",
              "      <td>235</td>\n",
              "      <td>47</td>\n",
              "      <td>1321</td>\n",
              "      <td>7</td>\n",
              "      <td>23.5</td>\n",
              "      <td>1647.8</td>\n",
              "      <td>0</td>\n",
              "    </tr>\n",
              "    <tr>\n",
              "      <th>4</th>\n",
              "      <td>4436033771</td>\n",
              "      <td>0</td>\n",
              "      <td>75</td>\n",
              "      <td>4</td>\n",
              "      <td>0</td>\n",
              "      <td>6</td>\n",
              "      <td>6</td>\n",
              "      <td>6</td>\n",
              "      <td>0</td>\n",
              "      <td>0</td>\n",
              "      <td>0</td>\n",
              "      <td>0</td>\n",
              "      <td>16400</td>\n",
              "      <td>7.0</td>\n",
              "      <td>18543</td>\n",
              "      <td>210</td>\n",
              "      <td>57</td>\n",
              "      <td>-1004</td>\n",
              "      <td>230</td>\n",
              "      <td>21.0</td>\n",
              "      <td>1640.0</td>\n",
              "      <td>17</td>\n",
              "      <td>2</td>\n",
              "      <td>1</td>\n",
              "      <td>6</td>\n",
              "      <td>6</td>\n",
              "      <td>7</td>\n",
              "      <td>1</td>\n",
              "      <td>1</td>\n",
              "      <td>0</td>\n",
              "      <td>0</td>\n",
              "      <td>17404</td>\n",
              "      <td>7.0</td>\n",
              "      <td>18313</td>\n",
              "      <td>225</td>\n",
              "      <td>67</td>\n",
              "      <td>1004</td>\n",
              "      <td>-230</td>\n",
              "      <td>22.5</td>\n",
              "      <td>1740.4</td>\n",
              "      <td>0</td>\n",
              "    </tr>\n",
              "  </tbody>\n",
              "</table>\n",
              "</div>"
            ],
            "text/plain": [
              "       gameId  blueWins  blueWardsPlaced  ...  redCSPerMin  redGoldPerMin  more\n",
              "0  4519157822         0               28  ...         19.7         1656.7     1\n",
              "1  4523371949         0               12  ...         24.0         1762.0     0\n",
              "2  4521474530         0               15  ...         20.3         1728.5     0\n",
              "3  4524384067         0               43  ...         23.5         1647.8     0\n",
              "4  4436033771         0               75  ...         22.5         1740.4     0\n",
              "\n",
              "[5 rows x 41 columns]"
            ]
          },
          "metadata": {
            "tags": []
          },
          "execution_count": 27
        }
      ]
    },
    {
      "cell_type": "markdown",
      "metadata": {
        "id": "x7LijXaCbvez",
        "colab_type": "text"
      },
      "source": [
        "Vamos plotar um grafico usando o hue como a coluna more e identificar a desindade de games onde acontece de fazer um numero de gold maior que a media e se esses acontecimentos estão realmente concentrados predominantemente no lado vencedor"
      ]
    },
    {
      "cell_type": "code",
      "metadata": {
        "id": "dC9P4NLBa8IT",
        "colab_type": "code",
        "colab": {
          "base_uri": "https://localhost:8080/",
          "height": 296
        },
        "outputId": "9fd34609-5fea-4097-ab5f-9f4a5cd548e7"
      },
      "source": [
        "sns.scatterplot(x=df.blueGoldPerMin, y=df.blueWins,hue=df.more)"
      ],
      "execution_count": 26,
      "outputs": [
        {
          "output_type": "execute_result",
          "data": {
            "text/plain": [
              "<matplotlib.axes._subplots.AxesSubplot at 0x7ff6917d7898>"
            ]
          },
          "metadata": {
            "tags": []
          },
          "execution_count": 26
        },
        {
          "output_type": "display_data",
          "data": {
            "image/png": "[encoded data removed]",
            "text/plain": [
              "<Figure size 432x288 with 1 Axes>"
            ]
          },
          "metadata": {
            "tags": [],
            "needs_background": "light"
          }
        }
      ]
    },
    {
      "cell_type": "code",
      "metadata": {
        "id": "ugbnggTfcXVp",
        "colab_type": "code",
        "colab": {
          "base_uri": "https://localhost:8080/",
          "height": 296
        },
        "outputId": "e82f3867-dea0-4b74-e192-505aa8d5fee4"
      },
      "source": [
        "sns.scatterplot(x=df.blueKills,y=df.blueDragons,hue=df.blueWins == 1)\n"
      ],
      "execution_count": 28,
      "outputs": [
        {
          "output_type": "execute_result",
          "data": {
            "text/plain": [
              "<matplotlib.axes._subplots.AxesSubplot at 0x7ff68f891198>"
            ]
          },
          "metadata": {
            "tags": []
          },
          "execution_count": 28
        },
        {
          "output_type": "display_data",
          "data": {
            "image/png": "[encoded data removed]",
            "text/plain": [
              "<Figure size 432x288 with 1 Axes>"
            ]
          },
          "metadata": {
            "tags": [],
            "needs_background": "light"
          }
        }
      ]
    },
    {
      "cell_type": "code",
      "metadata": {
        "id": "6ArTTRHEceEB",
        "colab_type": "code",
        "colab": {}
      },
      "source": [
        ""
      ],
      "execution_count": 0,
      "outputs": []
    }
  ]
}